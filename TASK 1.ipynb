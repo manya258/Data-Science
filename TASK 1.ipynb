{
 "cells": [
  {
   "cell_type": "code",
   "execution_count": 10,
   "metadata": {},
   "outputs": [
    {
     "name": "stdout",
     "output_type": "stream",
     "text": [
      "Enter the sentence\n",
      "hello, how are you\n",
      "The sentence with words reversed is:\n",
      ",olleh woh era uoy "
     ]
    }
   ],
   "source": [
    "def rev(s):\n",
    "    sps=s.split()  \n",
    "    for i in sps:\n",
    "        print(i[::-1],end=' ')\n",
    "\n",
    "s=input(\"Enter the sentence\\n\")\n",
    "print(\"The sentence with words reversed is:\")\n",
    "rev(s)    \n",
    "    "
   ]
  },
  {
   "cell_type": "code",
   "execution_count": 13,
   "metadata": {},
   "outputs": [
    {
     "name": "stdout",
     "output_type": "stream",
     "text": [
      "Enter the number of sides:5\n",
      "7 6 5\n",
      "5 7 6\n",
      "8 2 9\n",
      "2 3 4\n",
      "2 4 3\n",
      "The number of unique triangles is: 1\n"
     ]
    }
   ],
   "source": [
    "n=int(input(\"Enter the number of sides:\"))\n",
    "d={}\n",
    "for i in range(n):\n",
    "    s1=input()\n",
    "    s=s1.split()\n",
    "    s.sort()\n",
    "    s=\"\".join(s)\n",
    "    #creating a dictionary\n",
    "    if s not in d:\n",
    "        d[s]=1\n",
    "    else:\n",
    "        d[s]+=1\n",
    "c=0\n",
    "for i in d:\n",
    "    if d[i]==1:\n",
    "        c+=1\n",
    "print(\"The number of unique triangles is:\",c)"
   ]
  },
  {
   "cell_type": "code",
   "execution_count": 15,
   "metadata": {},
   "outputs": [
    {
     "name": "stdout",
     "output_type": "stream",
     "text": [
      "[[1,3],[2,6],[8,10],[15,18]]\n",
      "[[1, 6], [8, 10], [15, 18]]\n"
     ]
    }
   ],
   "source": [
    "intervals=eval(input())\n",
    "b=[]\n",
    "e=[]\n",
    "for i in intervals:\n",
    "    b.append(i[0])\n",
    "    e.append(i[1])\n",
    "b.sort()\n",
    "e.sort()\n",
    "m=[]\n",
    "j=0\n",
    "st=0\n",
    "for i in range(len(b)):\n",
    "    if(b[i]<e[j]):\n",
    "        continue\n",
    "    else:\n",
    "        j=j+1\n",
    "        m.append([b[st],e[j]])\n",
    "        st=i\n",
    "if(j!=len(b)-1):\n",
    "    m.append([b[st],e[len(b)-1]])\n",
    "print(m)"
   ]
  },
  {
   "cell_type": "code",
   "execution_count": null,
   "metadata": {},
   "outputs": [],
   "source": []
  }
 ],
 "metadata": {
  "kernelspec": {
   "display_name": "Python 3",
   "language": "python",
   "name": "python3"
  },
  "language_info": {
   "codemirror_mode": {
    "name": "ipython",
    "version": 3
   },
   "file_extension": ".py",
   "mimetype": "text/x-python",
   "name": "python",
   "nbconvert_exporter": "python",
   "pygments_lexer": "ipython3",
   "version": "3.8.5"
  }
 },
 "nbformat": 4,
 "nbformat_minor": 4
}
